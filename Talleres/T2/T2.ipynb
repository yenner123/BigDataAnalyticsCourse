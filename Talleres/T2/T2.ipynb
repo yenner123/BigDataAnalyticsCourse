{
 "cells": [
  {
   "cell_type": "markdown",
   "metadata": {},
   "source": [
    "## TallerNro2:  Buscador de texto por palabras claves usando VSM y Similitud Coseno utilizando MongoDB para almacenamiento\n",
    "\n",
    "### Autores: Yenner Robayo, Wilmar Martín"
   ]
  },
  {
   "cell_type": "code",
   "execution_count": 1,
   "metadata": {},
   "outputs": [],
   "source": [
    "# Autores: Yenner Robayo\n",
    "#          Wilmar Martín\n",
    "\n",
    "import json\n",
    "import math\n",
    "from collections import Counter\n",
    "from time import time\n",
    "from pymongo import MongoClient"
   ]
  },
  {
   "cell_type": "markdown",
   "metadata": {},
   "source": [
    "### Definición de metodos utilizados en el algoritmo de busqueda"
   ]
  },
  {
   "cell_type": "code",
   "execution_count": 4,
   "metadata": {},
   "outputs": [],
   "source": [
    "def readDatabase(db):\n",
    "    inverdIndex = db.inverdIndex\n",
    "    stopwords = db.stopwords\n",
    "    words = db.words\n",
    "    allTfidf = db.allTfidf\n",
    "    documents = db.documents\n",
    "    inv_frec_vector = db.inv_frec_vector\n",
    "\n",
    "    return inverdIndex, stopwords, words, allTfidf, documents, inv_frec_vector\n",
    "\n",
    "\n",
    "def findCoincidences(doc, find_term):\n",
    "    coincidences = 0\n",
    "    for word in doc:\n",
    "        if word == find_term:\n",
    "            coincidences = coincidences + 1\n",
    "    return coincidences\n",
    "\n",
    "\n",
    "def cosine_similarity(vectorSpace1, vectorSpace2):\n",
    "    numerator = 0\n",
    "    sumxx, sumyy = 0, 0\n",
    "    for i in range(len(vectorSpace1)):\n",
    "        x = vectorSpace1[i]\n",
    "        y = vectorSpace2[i]\n",
    "        sumxx += x*x\n",
    "        sumyy += y*y\n",
    "        numerator += x*y\n",
    "    return numerator/math.sqrt(sumxx*sumyy)\n",
    "\n",
    "\n",
    "def createHistogram(query):\n",
    "    listQuery = []\n",
    "    for word in query.lower().split():  # split              \n",
    "        if stopwords.find_one({'stopword':  word}) is None:                            \n",
    "            listQuery.append(word)\n",
    "    return Counter(listQuery)\n",
    "\n",
    "\n",
    "def createVectorSpace(histogram):\n",
    "    vectorSpace = []\n",
    "    for word in words.find():        \n",
    "        vectorSpace.append(findCoincidences(histogram, word.get('words')))\n",
    "    return vectorSpace\n",
    "\n",
    "\n",
    "def createTdiDf(vectorSpace):\n",
    "    tfidf = []\n",
    "    for id, ter_frec in enumerate(vectorSpace):\n",
    "        eq = 0\n",
    "        if ter_frec > 0:\n",
    "            inv_frec = inv_frec_vector.find_one({'_id':  id})\n",
    "            eq = ter_frec*inv_frec.get('value')\n",
    "        tfidf.append(eq)\n",
    "    return tfidf\n",
    "\n",
    "\n",
    "def search(tfidf):\n",
    "    cosSim = {}\n",
    "    for palabra in histQuery:        \n",
    "        inv_idx = inverdIndex.find_one({'word':  palabra})\n",
    "        if inv_idx != None:                \n",
    "            for key in inv_idx.get('docs'):\n",
    "                if key not in cosSim:\n",
    "                    documents_tfidf = allTfidf.find_one({'doc': key})\n",
    "                    calc = cosine_similarity(tfidf, documents_tfidf.get('words'))\n",
    "                    cosSim[key] = calc\n",
    "    return cosSim"
   ]
  },
  {
   "cell_type": "markdown",
   "metadata": {},
   "source": [
    "### Estableciendo conexión a la base de datos MongoDB"
   ]
  },
  {
   "cell_type": "code",
   "execution_count": 5,
   "metadata": {},
   "outputs": [],
   "source": [
    "# Cliente base de\n",
    "client = MongoClient()\n",
    "db = client.text\n",
    "\n",
    "# abrir las colecciones desde la base de datos\n",
    "inverdIndex, stopwords, words, allTfidf, documents, inv_frec_vector = readDatabase(db)"
   ]
  },
  {
   "cell_type": "markdown",
   "metadata": {},
   "source": [
    "### Algoritmo de Búsqueda"
   ]
  },
  {
   "cell_type": "code",
   "execution_count": 10,
   "metadata": {},
   "outputs": [
    {
     "name": "stdout",
     "output_type": "stream",
     "text": [
      "Ingrese texto a buscar: company\n",
      "\n",
      "Tiempo total de la busqueda 1.709s.\n",
      "Total de documentos encontrados: 242\n",
      "La consulta es: company\n",
      "\n",
      "Documento encontrado: #0, cs: 0.190667\n",
      "Documento #411: electronic mail <emca> financing attempt fails electronic mail corp of america said its efforts to secure additional financing for expansion have fallen through. the company said that there are no immediate prospects for financing through other sources, though efforts will continue. the company said operations wil continue while further efforts are made. negotiations with an undisclosed company had been onging for four months, the company said. reuter \n",
      "\n",
      "Documento encontrado: #1, cs: 0.170725\n",
      "Documento #751: united merchants <umm> to buy its own stock united merchants and manufactuerers inc said its board has authorized the repurchase of up to one mln shares of the company's common stock. the company now has about 9.1 mln shares outstanding. it said the stock will be acquired from time to time on the open market, depending on market conditions and other factors. the number of shares purchased and the timing of the purchases are also subject to restrictions under certain of the company's debt instruments, it added. reuter \n",
      "\n",
      "Documento encontrado: #2, cs: 0.167754\n",
      "Documento #682: integrated generics <ign> will not comment integrated generics inc said it is in the midst of several developments which could be favorable for the company but can make no further comments at the present time. the company said it released this brief statement in response to the american stock exchange's inquiry on the activity of the company's common stock, which was up 5/8 to five in midafternoon trading. reuter \n",
      "\n",
      "Documento encontrado: #3, cs: 0.152069\n",
      "Documento #586: western union <wu> names new president western union said john pope jr has been elected president of the telegraph company and executive vice president of the corporation. western union said pope, formerly the executive vice president of the company, succeeds robert leventhal. the company said leventhal will remain chairman and chief executive officer of the corporation and company, the prinipal subsidiary of western union corp. reuter \n",
      "\n",
      "Documento encontrado: #4, cs: 0.147472\n",
      "Documento #33: ccx network <ccxn> secondary offering underway ccx network inc said it was offering 220,838 shares of stock at 15.75 dlrs a share though underwriters stephens inc and cazenove inc. the company said it was selling the stock on behalf of some shareholders, including those who recently received shares in the company in exchange for their businesses. the company said it was receiving no proceeds from the offering. reuter \n",
      "\n",
      "Documento encontrado: #5, cs: 0.123575\n",
      "Documento #846: cousins home furnishings <cuzz> get credit line cousins home furnishings inc said it obtained a 5.0-mln-dlr working capital line of credit from lloyds bank plc, through its los angeles branch. the credit is supported by a guarantee from the company's canadian affiliate, the brick warehouse ltd, which will receive 200,000-dlrs worth of the company's stock. the line of credit, which expires in july, 1989, will be used to pay off a 1,750,000-dlr working capital loan the company owes wells farg bank. reuter \n",
      "\n",
      "Documento encontrado: #6, cs: 0.123246\n",
      "Documento #383: ilc technology <ilct> officer removed ilc technology inc said raymond montoya, vice president of finance, has been removed as an officer and terminated as an employee of the company, and ilc has filed a civil action against him to recover alleged improprer disbursements of company funds. the company said montoya has been arrested by police in hawthorne, calif., and charged with grand theft and embezzlement. it said the extent of the disbursements has not yet been determined. in independent auditor is helping assess the alleged irregularities, the company said. reuter \n",
      "\n",
      "Documento encontrado: #7, cs: 0.122961\n",
      "Documento #22: brown-forman <bfdb> sets stock split, ups payout brown-forman inc said its board has approved a three-for-two stock split and a 35 pct increase in the company cash dividend. the company cited its improved earnings outlook and continued strong cash flow as reasons for raising the dividend. brown-forman said the split of its class a and class b common shares would be effective march 13. the company said directors declared a quarterly cash dividend on each new share of both classes of 28 cts, payable april one to holders of record march 20. prior to the split, the company had paid 31 cts quarterly. brown-forman today reported a 37 pct increase in third quarter profits to 21.6 mln dlrs, or 1.00 dlr a share, on a seven pct increase in sales to a record 337 mln dlrs. brown-forman said nine month profits declined a bit to 66.0 mln dlrs, or 3.07 dlrs a share, from 66.2 mln dlrs, or 3.08 dlrs a share, a year earlier due to a second quarter charge of 37 cts a share for restructuring its beverage operations. the company said lower corporate tax rates and the restructuring \"are expected to substantially improve brown-forman's earnings and cash flow in fiscal 1988.\" reuter \n",
      "\n",
      "Documento encontrado: #8, cs: 0.121576\n",
      "Documento #728: lodgistix <ldgx> to buyback 100,000 shares lodgistix inc said its board authorized a program for the company to purchase up to 100,000 of its shares from time to time. the company said the shares will be used for general purposes, including incentive programs. reuter \n",
      "\n",
      "Documento encontrado: #9, cs: 0.117311\n",
      "Documento #808: turner corp <tur> unit builds hospital addition the turner corp's construction company new york said its orange county office has begun building a 23 mln dlr addition to kaiser permanente medical center. the five-story, 197,000 square foot adition will be used primarily as an outpatient treatment clinic, it said. developer for the project is kaiser foundation hospitals in pasadena, calif., the company said. the completion date is october 1988, according to the company. reuter \n",
      "\n",
      "Documento encontrado: #10, cs: 0.117130\n",
      "Documento #185: videotron buys into exhibit company (groupe videotron ltd) said it agreed to buy 50 pct of (groupe promexpo inc), a company which specializes in product exhibits, for three mln dlrs. reuter \n",
      "\n"
     ]
    }
   ],
   "source": [
    "#consulta\n",
    "query = input('Ingrese texto a buscar: ')\n",
    "\n",
    "### Algoritmo de Búsqueda\n",
    "\n",
    "# obtiene el tiempo actual\n",
    "t0 = time()\n",
    "\n",
    "# crea al vector de histograma de la cosulta\n",
    "histQuery = createHistogram(query)\n",
    "\n",
    "# crea el vector space de la consulta\n",
    "vectorSpace = createVectorSpace(histQuery)\n",
    "\n",
    "# normaliza TF-IDF\n",
    "tfidf = createTdiDf(vectorSpace)\n",
    "\n",
    "# realiza la consulta\n",
    "docs = search(tfidf)\n",
    "\n",
    "# obtiene el tiempo total de la busqueda\n",
    "totalTime = time()-t0\n",
    "\n",
    "# Muestra resultados\n",
    "print()\n",
    "print(\"Tiempo total de la busqueda %0.3fs.\" % totalTime)\n",
    "print(\"Total de documentos encontrados: %d\" % len(docs))\n",
    "print(\"La consulta es: \" + query)\n",
    "print()\n",
    "\n",
    "i = 0\n",
    "for key in sorted(docs, key=docs.get, reverse=True):\n",
    "    document = documents.find_one({'_id': key})    \n",
    "    print(\"Documento encontrado: #%s, cs: %f\" % (i, docs[key]))\n",
    "    print('Documento #%s: %s' % (key, document.get('doc')))\n",
    "    print()\n",
    "    i += 1\n",
    "\n",
    "    if (i > 10):\n",
    "        break"
   ]
  },
  {
   "cell_type": "code",
   "execution_count": null,
   "metadata": {},
   "outputs": [],
   "source": []
  }
 ],
 "metadata": {
  "kernelspec": {
   "display_name": "Python 3",
   "language": "python",
   "name": "python3"
  },
  "language_info": {
   "codemirror_mode": {
    "name": "ipython",
    "version": 3
   },
   "file_extension": ".py",
   "mimetype": "text/x-python",
   "name": "python",
   "nbconvert_exporter": "python",
   "pygments_lexer": "ipython3",
   "version": "3.6.4"
  }
 },
 "nbformat": 4,
 "nbformat_minor": 2
}
