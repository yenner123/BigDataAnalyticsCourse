{
 "cells": [
  {
   "cell_type": "markdown",
   "metadata": {},
   "source": [
    "## TallerNro1:  Buscador de texto por palabras claves usando VSM y Similitud Coseno\n",
    "### Autores: Yenner Robayo, Wilmar Martín"
   ]
  },
  {
   "cell_type": "code",
   "execution_count": 1,
   "metadata": {
    "collapsed": true
   },
   "outputs": [],
   "source": [
    "# Autores: Yenner Robayo\n",
    "#          Wilmar Martín\n",
    "\n",
    "import math\n",
    "import json\n",
    "from time import time\n",
    "from collections import Counter\n",
    "from nltk.tokenize import word_tokenize "
   ]
  },
  {
   "cell_type": "code",
   "execution_count": 2,
   "metadata": {
    "collapsed": true
   },
   "outputs": [],
   "source": [
    "def opendDocuments():    \n",
    "    file_inverdIndex = open(\"inverdIndex.txt\", \"r\")\n",
    "    inverdIndex = json.JSONDecoder().decode(file_inverdIndex.read())\n",
    "    file_inverdIndex.close()\n",
    "    \n",
    "    file_stopwords = open(\"stopwords.txt\", \"r\", errors=\"replace\")\n",
    "    stopwords = file_stopwords.read().split()\n",
    "    file_stopwords.close()\n",
    "    \n",
    "    file_words = open(\"words.txt\", \"r\")\n",
    "    words = json.JSONDecoder().decode(file_words.read())\n",
    "    file_words.close()\n",
    "    \n",
    "    file_words = open(\"tfidf.txt\", \"r\")\n",
    "    allTfidf = json.JSONDecoder().decode(file_words.read())\n",
    "    file_words.close()\n",
    "\n",
    "    file_documents = open(\"documents.txt\", \"r\")\n",
    "    documents = json.JSONDecoder().decode(file_documents.read())\n",
    "    file_documents.close()\n",
    "    \n",
    "    return inverdIndex, stopwords, words, allTfidf ,documents"
   ]
  },
  {
   "cell_type": "code",
   "execution_count": 3,
   "metadata": {
    "collapsed": true
   },
   "outputs": [],
   "source": [
    "def findCoincidences(doc, find_term):\n",
    "    coincidences = 0\n",
    "    for word in doc:\n",
    "        if word == find_term:\n",
    "            coincidences = coincidences + 1\n",
    "    return coincidences"
   ]
  },
  {
   "cell_type": "code",
   "execution_count": 4,
   "metadata": {
    "collapsed": true
   },
   "outputs": [],
   "source": [
    "def cosine_similarity(vectorSpace1, vectorSpace2):\n",
    "    numerator = 0 \n",
    "    sumxx, sumyy = 0, 0\n",
    "    for i in range(len(vectorSpace1)):\n",
    "        x = vectorSpace1[i]\n",
    "        y = vectorSpace2[i]\n",
    "        sumxx += x*x\n",
    "        sumyy += y*y\n",
    "        numerator += x*y\n",
    "    return numerator/math.sqrt(sumxx*sumyy)"
   ]
  },
  {
   "cell_type": "code",
   "execution_count": 5,
   "metadata": {
    "collapsed": true
   },
   "outputs": [],
   "source": [
    "def createHistogram(query):\n",
    "    listQuery = []\n",
    "    for word in query.lower().split():  # split\n",
    "        if word not in stopwords:\n",
    "            listQuery.append(word)\n",
    "    return Counter(listQuery)\n"
   ]
  },
  {
   "cell_type": "code",
   "execution_count": 6,
   "metadata": {
    "collapsed": true
   },
   "outputs": [],
   "source": [
    "def createVectorSpace(histogram):\n",
    "    vectorSpace = []\n",
    "    for word in words:\n",
    "        vectorSpace.append(findCoincidences(histogram, word))\n",
    "    return vectorSpace"
   ]
  },
  {
   "cell_type": "code",
   "execution_count": 7,
   "metadata": {
    "collapsed": true
   },
   "outputs": [],
   "source": [
    "def createTdiDf(vectorSpace):\n",
    "    tfidf = []\n",
    "    doc_lenght = len(vectorSpace)\n",
    "    for ter in vectorSpace:\n",
    "        eq = 0\n",
    "        if ter > 0:\n",
    "            eq = ter*math.log(doc_lenght)\n",
    "        tfidf.append(eq)\n",
    "    return tfidf"
   ]
  },
  {
   "cell_type": "code",
   "execution_count": null,
   "metadata": {
    "collapsed": true
   },
   "outputs": [],
   "source": [
    "def search(tfidf):\n",
    "    cosSim = {}\n",
    "    for palabra in histQuery:\n",
    "        if palabra in inverdIndex:  # si la palabra esta en el index invertido\n",
    "            for key in inverdIndex.get(palabra):\n",
    "                if key not in cosSim:\n",
    "                    calc = cosine_similarity(tfidf, allTfidf[key])\n",
    "                    cosSim[key] = calc                    \n",
    "    return cosSim"
   ]
  },
  {
   "cell_type": "code",
   "execution_count": null,
   "metadata": {},
   "outputs": [],
   "source": [
    "query = input('Ingrese texto a buscar: ')"
   ]
  },
  {
   "cell_type": "markdown",
   "metadata": {},
   "source": [
    "### Algoritmo de Búsqueda"
   ]
  },
  {
   "cell_type": "code",
   "execution_count": null,
   "metadata": {},
   "outputs": [],
   "source": [
    "# abrir documentos con los documentos procesados\n",
    "inverdIndex, stopwords, words, allTfidf ,documents = opendDocuments()\n",
    "\n",
    "# obtiene el tiempo actual\n",
    "t0 = time()\n",
    "\n",
    "# crea al vector de histograma de la cosulta\n",
    "histQuery = createHistogram(query)\n",
    "\n",
    "# crea el vector space de la consulta\n",
    "vectorSpace = createVectorSpace(histQuery)\n",
    "\n",
    "# normaliza TF-IDF \n",
    "tfidf = createTdiDf(vectorSpace)\n",
    "\n",
    "# realiza la consulta\n",
    "docs = search(tfidf)\n",
    "\n",
    "# obtiene el tiempo total de la busqueda\n",
    "totalTime = time()-t0"
   ]
  },
  {
   "cell_type": "markdown",
   "metadata": {},
   "source": [
    "### Muestra resultados"
   ]
  },
  {
   "cell_type": "code",
   "execution_count": null,
   "metadata": {},
   "outputs": [],
   "source": [
    "print(\"Tiempo total de la busqueda %0.3fs.\" % totalTime)\n",
    "\n",
    "print(\"La consulta es: \" + query)\n",
    "print()\n",
    "\n",
    "i = 0\n",
    "for key in sorted(docs, key=docs.get, reverse=True):\n",
    "    print(\"Documento encontrado: #%s\" % i)\n",
    "    print('%s' % documents[key] + \"...\")\n",
    "    print()\n",
    "    i += 1\n",
    "    \n",
    "    if (i > 10):\n",
    "        break\n",
    "        "
   ]
  },
  {
   "cell_type": "code",
   "execution_count": null,
   "metadata": {
    "collapsed": true
   },
   "outputs": [],
   "source": []
  },
  {
   "cell_type": "code",
   "execution_count": null,
   "metadata": {
    "collapsed": true
   },
   "outputs": [],
   "source": []
  },
  {
   "cell_type": "code",
   "execution_count": null,
   "metadata": {
    "collapsed": true
   },
   "outputs": [],
   "source": []
  },
  {
   "cell_type": "code",
   "execution_count": null,
   "metadata": {
    "collapsed": true
   },
   "outputs": [],
   "source": []
  },
  {
   "cell_type": "code",
   "execution_count": null,
   "metadata": {
    "collapsed": true
   },
   "outputs": [],
   "source": []
  }
 ],
 "metadata": {
  "kernelspec": {
   "display_name": "Python 3",
   "language": "python",
   "name": "python3"
  },
  "language_info": {
   "codemirror_mode": {
    "name": "ipython",
    "version": 3
   },
   "file_extension": ".py",
   "mimetype": "text/x-python",
   "name": "python",
   "nbconvert_exporter": "python",
   "pygments_lexer": "ipython3",
   "version": "3.6.3"
  }
 },
 "nbformat": 4,
 "nbformat_minor": 2
}
