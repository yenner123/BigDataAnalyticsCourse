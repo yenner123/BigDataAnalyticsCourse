{
 "cells": [
  {
   "cell_type": "markdown",
   "metadata": {},
   "source": [
    "## TallerNro1:  Buscador de texto por palabras claves usando VSM y Similitud Coseno\n",
    "### Autores: Yenner Robayo, Wilmar Martín"
   ]
  },
  {
   "cell_type": "code",
   "execution_count": 12,
   "metadata": {},
   "outputs": [],
   "source": [
    "# Autores: Yenner Robayo\n",
    "#          Wilmar Martín\n",
    "\n",
    "import math\n",
    "import json\n",
    "from time import time\n",
    "from collections import Counter\n",
    "from nltk.tokenize import word_tokenize "
   ]
  },
  {
   "cell_type": "code",
   "execution_count": 13,
   "metadata": {},
   "outputs": [],
   "source": [
    "def opendDocuments():    \n",
    "    file_inverdIndex = open(\"inverdIndex.txt\", \"r\")\n",
    "    inverdIndex = json.JSONDecoder().decode(file_inverdIndex.read())\n",
    "    file_inverdIndex.close()\n",
    "    \n",
    "    file_stopwords = open(\"stopwords.txt\", \"r\", errors=\"replace\")\n",
    "    stopwords = file_stopwords.read().split()\n",
    "    file_stopwords.close()\n",
    "    \n",
    "    file_words = open(\"words.txt\", \"r\")\n",
    "    words = json.JSONDecoder().decode(file_words.read())\n",
    "    file_words.close()\n",
    "    \n",
    "    file_words = open(\"tfidf.txt\", \"r\")\n",
    "    allTfidf = json.JSONDecoder().decode(file_words.read())\n",
    "    file_words.close()\n",
    "\n",
    "    file_documents = open(\"documents.txt\", \"r\")\n",
    "    documents = json.JSONDecoder().decode(file_documents.read())\n",
    "    file_documents.close()\n",
    "    \n",
    "    return inverdIndex, stopwords, words, allTfidf ,documents"
   ]
  },
  {
   "cell_type": "code",
   "execution_count": 14,
   "metadata": {},
   "outputs": [],
   "source": [
    "def findCoincidences(doc, find_term):\n",
    "    coincidences = 0\n",
    "    for word in doc:\n",
    "        if word == find_term:\n",
    "            coincidences = coincidences + 1\n",
    "    return coincidences"
   ]
  },
  {
   "cell_type": "code",
   "execution_count": 15,
   "metadata": {},
   "outputs": [],
   "source": [
    "def cosine_similarity(vectorSpace1, vectorSpace2):\n",
    "    numerator = 0 \n",
    "    sumxx, sumyy = 0, 0\n",
    "    for i in range(len(vectorSpace1)):\n",
    "        x = vectorSpace1[i]\n",
    "        y = vectorSpace2[i]\n",
    "        sumxx += x*x\n",
    "        sumyy += y*y\n",
    "        numerator += x*y\n",
    "    return numerator/math.sqrt(sumxx*sumyy)"
   ]
  },
  {
   "cell_type": "code",
   "execution_count": 16,
   "metadata": {},
   "outputs": [],
   "source": [
    "def createHistogram(query):\n",
    "    listQuery = []\n",
    "    for word in word_tokenize(query.lower()):  # split\n",
    "        if word not in stopwords:\n",
    "            listQuery.append(word)\n",
    "    return Counter(listQuery)\n"
   ]
  },
  {
   "cell_type": "code",
   "execution_count": 17,
   "metadata": {},
   "outputs": [],
   "source": [
    "def createVectorSpace(histogram):\n",
    "    vectorSpace = []\n",
    "    for word in words:\n",
    "        vectorSpace.append(findCoincidences(histogram, word))\n",
    "    return vectorSpace"
   ]
  },
  {
   "cell_type": "code",
   "execution_count": 18,
   "metadata": {},
   "outputs": [],
   "source": [
    "def createTdiDf(vectorSpace):\n",
    "    tfidf = []\n",
    "    doc_lenght = len(vectorSpace)\n",
    "    for ter in vectorSpace:\n",
    "        eq = 0\n",
    "        if ter > 0:\n",
    "            eq = ter*math.log(doc_lenght)\n",
    "        tfidf.append(eq)\n",
    "    return tfidf"
   ]
  },
  {
   "cell_type": "code",
   "execution_count": 19,
   "metadata": {},
   "outputs": [],
   "source": [
    "def search(tfidf):\n",
    "    cosSim = {}\n",
    "    for palabra in histQuery:\n",
    "        if palabra in inverdIndex:  # si la palabra esta en el index invertido\n",
    "            for key in inverdIndex.get(palabra):\n",
    "                if key not in cosSim:\n",
    "                    calc = cosine_similarity(tfidf, allTfidf[key])\n",
    "                    cosSim[key] = calc                    \n",
    "    return cosSim"
   ]
  },
  {
   "cell_type": "code",
   "execution_count": 20,
   "metadata": {},
   "outputs": [
    {
     "name": "stdout",
     "output_type": "stream",
     "text": [
      "Ingrese texto a buscar: usa\n"
     ]
    }
   ],
   "source": [
    "query = input('Ingrese texto a buscar: ')"
   ]
  },
  {
   "cell_type": "markdown",
   "metadata": {},
   "source": [
    "### Algoritmo de Búsqueda"
   ]
  },
  {
   "cell_type": "code",
   "execution_count": 21,
   "metadata": {},
   "outputs": [],
   "source": [
    "# abrir documentos con los documentos procesados\n",
    "inverdIndex, stopwords, words, allTfidf ,documents = opendDocuments()\n",
    "\n",
    "# obtiene el tiempo actual\n",
    "t0 = time()\n",
    "\n",
    "# crea al vector de histograma de la cosulta\n",
    "histQuery = createHistogram(query)\n",
    "\n",
    "# crea el vector space de la consulta\n",
    "vectorSpace = createVectorSpace(histQuery)\n",
    "\n",
    "# normaliza TF-IDF \n",
    "tfidf = createTdiDf(vectorSpace)\n",
    "\n",
    "# realiza la consulta\n",
    "docs = search(tfidf)\n",
    "\n",
    "# obtiene el tiempo total de la busqueda\n",
    "totalTime = time()-t0"
   ]
  },
  {
   "cell_type": "markdown",
   "metadata": {},
   "source": [
    "### Muestra resultados"
   ]
  },
  {
   "cell_type": "code",
   "execution_count": 27,
   "metadata": {},
   "outputs": [
    {
     "name": "stdout",
     "output_type": "stream",
     "text": [
      "Tiempo total de la busqueda 0.031s.\n",
      "La consulta es: usa\n",
      "\n",
      "Documento encontrado: #0:\n",
      "r.j.r. nabisco unit forms overseeing committee r.j. reynolds tobacco co, a unit of r.j.r. nabisco inc <rjr>, said it has formed an executive management committee to oversee the company's worldwide tobacco operations. reynolds tobacco said the committee's members will be senior managers of reynolds tobacco co, r.j. reynolds tobacco usa, and r.j. reynolds international inc. r.j.r. nabisco is reportedly attempting to form a master limited partnership out of its tobacco unit, part of which will be s...\n",
      "\n",
      "Documento encontrado: #1:\n",
      "japan distributor may import mazda u.s.-made cars <autorama inc>, a distributor for ford motor co <f> in japan, is considering importing cars made by <mazda motor manufacturing (usa) corp>, (mmuc), a wholly owned u.s. subsidiary of mazda motor corp <mazt.t>, an autorama spokesman said. mazda, owned 24 pct by ford, is due to begin production of the 2,000-cc-engine cars at the michigan plant in september at an annual rate of 240,000, of which between 60 and 70 pct will go to ford and the rest to m...\n",
      "\n",
      "Documento encontrado: #2:\n",
      "liberty all-star <usa> sets initial payout liberty all-star equity fund said it declared an initial dividend of five cts per share, payable april two to shareholders of record march 20. it said the dividend includes a quarterly dividend of three cts a share and a special payout of two cts a share, which covers the period from november three, 1986, when the fund began operations, to december 31, 1986. the fund said its quarterly dividend rate may fluctuate in the future. reuter ...\n",
      "\n",
      "Documento encontrado: #3:\n",
      "western tele-communications <wtlca> joins group western tele-communications inc said that through its subsidiary, westlink inc, it has joined \"netlink usa\", a general partnership consisting of telluride cablevision inc and mccaw satellite programming investments inc. western said it will act as a 40 pct investor, converting its cable television signals to satellite distribution in selected markets. the conversion is expected to improve reception of denver television signals delivered to cable op...\n",
      "\n"
     ]
    }
   ],
   "source": [
    "print(\"Tiempo total de la busqueda %0.3fs.\" % totalTime)\n",
    "\n",
    "print(\"La consulta es: \" + query)\n",
    "print()\n",
    "\n",
    "i = 0\n",
    "for key in sorted(docs, key=docs.get):\n",
    "    print(\"Documento encontrado: #%s:\" % i)\n",
    "    print('%.500s' % documents[key] + \"...\")\n",
    "    print()\n",
    "    i += 1"
   ]
  },
  {
   "cell_type": "code",
   "execution_count": null,
   "metadata": {},
   "outputs": [],
   "source": []
  },
  {
   "cell_type": "code",
   "execution_count": null,
   "metadata": {},
   "outputs": [],
   "source": []
  },
  {
   "cell_type": "code",
   "execution_count": null,
   "metadata": {},
   "outputs": [],
   "source": []
  },
  {
   "cell_type": "code",
   "execution_count": null,
   "metadata": {},
   "outputs": [],
   "source": []
  },
  {
   "cell_type": "code",
   "execution_count": null,
   "metadata": {},
   "outputs": [],
   "source": []
  }
 ],
 "metadata": {
  "kernelspec": {
   "display_name": "Python 3",
   "language": "python",
   "name": "python3"
  },
  "language_info": {
   "codemirror_mode": {
    "name": "ipython",
    "version": 3
   },
   "file_extension": ".py",
   "mimetype": "text/x-python",
   "name": "python",
   "nbconvert_exporter": "python",
   "pygments_lexer": "ipython3",
   "version": "3.6.4"
  }
 },
 "nbformat": 4,
 "nbformat_minor": 2
}
