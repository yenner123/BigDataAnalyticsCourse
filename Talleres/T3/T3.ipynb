{
 "cells": [
  {
   "cell_type": "code",
   "execution_count": 24,
   "metadata": {},
   "outputs": [
    {
     "name": "stdout",
     "output_type": "stream",
     "text": [
      "Loading dataset and extracting TF-IDF features...\n",
      "done in 0.114s.\n",
      "\n",
      "Fitting the NMF model with n_samples=1000 and n_features=1000...\n",
      "done in 0.290s.\n",
      "\n",
      "Topic #0:\n",
      "000 cts shr revs qtr oper 4th mths avg shrs mln 1st gain 2nd excludes extraordinary share sales gains ct preferred discontinued tonnes 107 110 resources operations credits 151 700 0000 sale 130 101 accounting health industries 04 communications adjusted mail gold ford credit data 140 investment change presidential 120\n",
      "\n",
      "Topic #1:\n",
      "mln dlrs sales shr shrs avg dlr profit share tax 4th rose stg extraordinary revenues operating qtr loans earnings gain reserves assets cents borrowings revs loan fiscal months reported income 03 150 federal commercial period funds 101 data weeks 06 sale comalco losses 425 cash pre gas restructuring deficit discount\n",
      "\n",
      "Topic #2:\n",
      "cts march div record qtly pay prior dividend payout sets franklin quarterly fund mthly income payable tax insured regular raises annual initial declared split share realty trust california holders cuts waste services managed yield distribution period industries gold shareholders england ohio engineering shr air financial 2nd qtr debentures increases board\n",
      "\n",
      "Topic #3:\n",
      "pct rose bond rate eurobond rise coupon yen lead revised manager issues priced march stg franc payment growth unemployment underwriting issuing management rates combined pays bonds swiss listed french price 000 luxembourg concession denominations 101 selling average indicators bank paying callable prices construction consumer fall drop debentures government factor decline\n",
      "\n",
      "Topic #4:\n",
      "shares stock common split share company offer offering exchange outstanding board shareholders stake 000 securities holders tender dlrs commission preferred dividend acquisition investment purchase trading initial systems payable march underwriters bought purposes management merger proceeds convertible rexnord acquire shareholder debentures capital rights acquired rospatch firm approval sets filing bid plans\n",
      "\n",
      "Topic #5:\n",
      "loss profit revs oper nil 4th comalco operating 800 ct qtr discontinued entertainment 0000 credit operations provision tax 600 shr share dlrs charge products reported losses multi industries step sale gas mln prior listing revenues oil charges german excludes continental aluminium pre cts 109 rospatch petroleum industry target improved calendar\n",
      "\n",
      "Topic #6:\n",
      "company unit contract agreement products services dlrs venture division sale systems agreed subsidiary financial president operations sell union industries acquisition joint business chairman signed dlr acquired units air spokesman aircraft purchase undisclosed capital gain steel western reagan product electronic completed executive personal technology technologies federal chief software expected earnings operating\n",
      "\n",
      "Topic #7:\n",
      "bank banks debt brazil funaro foreign credit commercial committee government payments market finance japanese official bankers reserves treasury japan country imf banking argentina rates bonds dlrs central stg term securities loan sources reserve creditor loans federal trade taiwan ongpin alternative officials york talks brazilian economic national rescheduling minister growth monetary\n",
      "\n",
      "Topic #8:\n",
      "oil tonnes opec prices crude production price output market exports saudi imports wheat government palm 000 industry indonesia bpd barrels trade canadian gulf china kuwait export barrel canada agriculture spot ministers soybean farmers traders demand gas rise futures minister official cuts expected fall arabia effective cut ceiling petroleum calendar japan\n",
      "\n",
      "Topic #9:\n",
      "coffee delegates ico quotas talks quota meeting export council agreement organization consumers producers producer prices proposal contact brazil distribution agree countries negotiations continue session future exporters share continued dutch spokesman progress market failure trade accord basis suspended failed prospects potential afternoon industry cents proposals extended officials months bags producing cut\n",
      "\n"
     ]
    }
   ],
   "source": [
    "from __future__ import print_function\n",
    "from json import JSONDecoder\n",
    "from time import time\n",
    "from sklearn.feature_extraction.text import TfidfVectorizer\n",
    "from sklearn.decomposition import NMF\n",
    "from sklearn.datasets import fetch_20newsgroups\n",
    "\n",
    "n_samples = 1000\n",
    "n_features = 1000\n",
    "n_topics = 10\n",
    "n_top_words = 50\n",
    "\n",
    "t0 = time()\n",
    "print(\"Loading dataset and extracting TF-IDF features...\")\n",
    "\n",
    "file_documents = open(\"documents.txt\", \"r\")\n",
    "documents = JSONDecoder().decode(file_documents.read())\n",
    "file_documents.close()\n",
    "\n",
    "file_stopwords = open(\"stopwords.txt\", \"r\", errors=\"replace\")\n",
    "stopwords = file_stopwords.read().split()\n",
    "file_stopwords.close()\n",
    "\n",
    "dataset = []\n",
    "for key, value in documents.items():\n",
    "    dataset.append(value)\n",
    "\n",
    "vectorizer = TfidfVectorizer(\n",
    "    max_df=0.95, min_df=2, max_features=n_features, stop_words=stopwords)\n",
    "\n",
    "tfidf = vectorizer.fit_transform(dataset[:n_samples])\n",
    "\n",
    "print(\"done in %0.3fs.\" % (time() - t0))\n",
    "print()\n",
    "\n",
    "print(\"Fitting the NMF model with n_samples=%d and n_features=%d...\" %\n",
    "      (n_samples, n_features))\n",
    "\n",
    "nmf = NMF(n_components=n_topics, random_state=1).fit(tfidf)\n",
    "\n",
    "print(\"done in %0.3fs.\" % (time() - t0))\n",
    "\n",
    "feature_names = vectorizer.get_feature_names()\n",
    "\n",
    "print()\n",
    "\n",
    "for topic_idx, topic in enumerate(nmf.components_):\n",
    "    print(\"Topic #%d:\" % topic_idx)\n",
    "    print(\" \".join([feature_names[i]\n",
    "                    for i in topic.argsort()[:-n_top_words - 1:-1]]))\n",
    "    print()\n"
   ]
  },
  {
   "cell_type": "code",
   "execution_count": null,
   "metadata": {
    "collapsed": true
   },
   "outputs": [],
   "source": []
  }
 ],
 "metadata": {
  "kernelspec": {
   "display_name": "Python 3",
   "language": "python",
   "name": "python3"
  },
  "language_info": {
   "codemirror_mode": {
    "name": "ipython",
    "version": 3
   },
   "file_extension": ".py",
   "mimetype": "text/x-python",
   "name": "python",
   "nbconvert_exporter": "python",
   "pygments_lexer": "ipython3",
   "version": "3.6.4"
  }
 },
 "nbformat": 4,
 "nbformat_minor": 2
}
